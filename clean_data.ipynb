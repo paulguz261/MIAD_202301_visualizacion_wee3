{
 "cells": [
  {
   "attachments": {},
   "cell_type": "markdown",
   "metadata": {},
   "source": [
    "## Limpieza de datos para el dataset"
   ]
  },
  {
   "cell_type": "code",
   "execution_count": null,
   "metadata": {},
   "outputs": [],
   "source": [
    "!pip install pycountry\n",
    "!pip install thefuzz[speedup]"
   ]
  },
  {
   "cell_type": "code",
   "execution_count": null,
   "metadata": {},
   "outputs": [],
   "source": [
    "import pandas as pd\n",
    "import numpy as np\n",
    "import pycountry\n",
    "from thefuzz import fuzz\n",
    "import pycountry"
   ]
  },
  {
   "cell_type": "code",
   "execution_count": null,
   "metadata": {},
   "outputs": [],
   "source": [
    "data_dir = r\"data\\Ask A Manager Salary Survey 2021 (Responses) - Form Responses 1.tsv\"\n",
    "data = pd.read_csv(data_dir, sep=\"\\t\")\n",
    "data.head()"
   ]
  },
  {
   "attachments": {},
   "cell_type": "markdown",
   "metadata": {},
   "source": [
    "## Estandarizar Nombres de campos\n",
    "\n",
    "cambio de los nombres de la base de datos a unos mas maleables, ya que los \"originales\" son muy largos"
   ]
  },
  {
   "cell_type": "code",
   "execution_count": null,
   "metadata": {},
   "outputs": [],
   "source": [
    "new_col_names = [\"Timestamp\",\n",
    "\"Age\",\n",
    "\"Industry\",\n",
    "\"Job_title\",\n",
    "\"Job_additional_context\",\n",
    "\"annual_salary\",\n",
    "\"monetary_compensation\",\n",
    "\"currency\",\n",
    "\"other_currency\",\n",
    "\"income_aditional_context\",\n",
    "\"job_country\",\n",
    "\"us_state\",\n",
    "\"job_city\",\n",
    "\"professional_experience\",\n",
    "\"field_experience\",\n",
    "\"highest_education_level\",\n",
    "\"gender\",\n",
    "\"race\"\n",
    "]\n",
    "\n",
    "\n",
    "dict_columns = dict(zip(data.columns, new_col_names))\n",
    "data.columns = [dict_columns[x] for x in data.columns]"
   ]
  },
  {
   "cell_type": "code",
   "execution_count": null,
   "metadata": {},
   "outputs": [],
   "source": [
    "data.head()"
   ]
  },
  {
   "attachments": {},
   "cell_type": "markdown",
   "metadata": {},
   "source": [
    "## Estandarizacion currency\n",
    "\n",
    "nueva columna para realizar el proceso de estandarizacion del valor \"currency\" esta estandarizacion se realiza a través de un diccionario que transforma valores \"originales\" a valores estandarizados"
   ]
  },
  {
   "cell_type": "code",
   "execution_count": null,
   "metadata": {},
   "outputs": [],
   "source": [
    "c0 = data[\"currency\"].str.upper() == \"OTHER\"\n",
    "data[\"standard_currency\"] = data[\"currency\"].copy()\n",
    "data.loc[c0,\"standard_currency\"] = data.loc[c0,\"other_currency\"]\n",
    "\n",
    "data[\"currency\"] = data[\"currency\"].str.upper()\n",
    "data[\"standard_currency\"] = data[\"standard_currency\"].str.upper()\n",
    "data[\"standard_currency\"] = data[\"standard_currency\"].fillna(\"N/A\")\n"
   ]
  },
  {
   "cell_type": "code",
   "execution_count": null,
   "metadata": {},
   "outputs": [],
   "source": [
    "currency_values = ['AMERICAN DOLLARS', \n",
    "        'ARGENTINE PESO', 'ARGENTINIAN PESO (ARS)', 'ARS',\n",
    "       'AUD', 'AUD AUSTRALIAN ', 'AUD/NZD', 'AUSTRALIAN DOLLARS ', \n",
    "       'BDT',\n",
    "       'BR$', 'BRL', 'BRL (R$)', \n",
    "       'CAD', \n",
    "       'CHF', \n",
    "       'CHINA RMB', 'CNY', \n",
    "       'COP',\n",
    "       'CROATIAN KUNA', \n",
    "       'CZECH CROWNS', 'CZK', \n",
    "       'DANISH KRONER', 'DKK', 'DKK ',\n",
    "       'EQUITY', \n",
    "       'EUR', 'EURO', \n",
    "       'GBP', \n",
    "       'HKD', \n",
    "       'IDR', 'IDR ', \n",
    "       'ILS', 'ILS (SHEKEL)', 'ILS/NIS',       \n",
    "       'INDIAN RUPEES', 'INR', 'INR (INDIAN RUPEE)',\n",
    "       'ISRAELI SHEKELS', \n",
    "       'JPY', \n",
    "       'KOREAN WON ', 'KRW', 'KRW (KOREAN WON)',\n",
    "       'LKR', \n",
    "       'MEXICAN PESOS', 'MXN', \n",
    "       'MYR', \n",
    "       'NGN', \n",
    "       'NIS (NEW ISRAELI SHEKEL)',\n",
    "       'NOK', 'NORWEGIAN KRONER (NOK)', \n",
    "       'NTD', \n",
    "       'NZD', \n",
    "       'PESO ARGENTINO',\n",
    "       'PHILIPPINE PESO', 'PHILIPPINE PESO (PHP)', 'PHILIPPINE PESOS', 'PHP','PHP (PHILIPPINE PESO)', \n",
    "       'PLN', 'PLN (POLISH ZLOTY)', 'PLN (ZWOTY)', 'POLISH ZŁOTY', \n",
    "       'RM', 'RMB (CHINESE YUAN)', \n",
    "       'RUPEES', \n",
    "       'SAR', \n",
    "       'SEK',\n",
    "       'SGD', 'SGD ', 'SINGAPORE DOLLARA', \n",
    "       'TAIWANESE DOLLARS', 'THAI  BAHT', 'THAI BAHT ', 'THB', \n",
    "       'TRY', \n",
    "       'TTD', \n",
    "       'US DOLLAR', 'USD', \n",
    "       'ZAR',\n",
    "       'N/A']\n",
    "\n",
    "standard_currency_values = [\"USD\",\n",
    "                            \"ARS\",\"ARS\",\"ARS\",\n",
    "                            \"AUD\",\"AUD\",\"AUD\",\"AUD\",\n",
    "                            \"BDT\",\n",
    "                            \"BRL\",\"BRL\",\"BRL\",\n",
    "                            \"CAD\",\n",
    "                            \"CHF\",\n",
    "                            \"CNY\",\"CNY\",\n",
    "                            \"COP\",\n",
    "                            \"HRK\",\n",
    "                            \"CZK\",\"CZK\",\n",
    "                            \"DKK\", \"DKK\", \"DKK\",\n",
    "                            \"N/A\",\n",
    "                            \"EUR\",\"EUR\",\n",
    "                            \"GBP\",\n",
    "                            \"HKD\",\n",
    "                            \"IDR\", \"IDR\",\n",
    "                            \"ILS\",\"ILS\",\"ILS\",\n",
    "                            \"INR\",\"INR\",\"INR\",\n",
    "                            \"ILS\",\n",
    "                            \"JPY\",\n",
    "                            \"KRW\",\"KRW\",\"KRW\",\n",
    "                            \"LKR\",\n",
    "                            \"MXN\",\"MXN\",\n",
    "                            \"MYR\",\n",
    "                            \"NGN\",\n",
    "                            \"ILS\",\n",
    "                            \"NOK\",\"NOK\",\n",
    "                            \"NTD\",\n",
    "                            \"NZD\",\n",
    "                            \"ARS\",\n",
    "                            \"PHP\",\"PHP\",\"PHP\",\"PHP\",\"PHP\",\n",
    "                            \"PLN\", \"PLN\", \"PLN\", \"PLN\",\n",
    "                            \"CNY\",\"CNY\",\n",
    "                            \"INR\",\n",
    "                            \"SAR\", \n",
    "                            \"SEK\",\n",
    "                            \"SGD\", \"SGD\", \"SGD\",\n",
    "                            \"THB\", \"THB\", \"THB\", \"THB\",\n",
    "                            \"TRY\", \n",
    "                            \"TTD\",\n",
    "                            \"USD\", \"USD\",\n",
    "                            \"ZAR\",\n",
    "                            \"N/A\"]\n",
    "\n",
    "\n",
    "dict_currencies = dict(zip(currency_values,standard_currency_values))\n",
    "\n",
    "#data[\"standard_currency\"] = \n",
    "\n",
    "c0 = ~data[\"currency\"].isna()\n",
    "data.loc[c0,\"standard_currency\"] = data.loc[c0,\"standard_currency\"].apply(lambda x:dict_currencies[x] )\n"
   ]
  },
  {
   "attachments": {},
   "cell_type": "markdown",
   "metadata": {},
   "source": [
    "## Estandarizacion Paises\n",
    "\n",
    "se realizan varias iteraciones para estandarizar el nombre de los paises. a lo largo de cada iteracion se ira construyendo un diccionario que tendra las transformaciones de nombre de pais a nombre estandarizado\n",
    "\n",
    "**Iteraciones**\n",
    "1. busqueda de nombres en la libreria pycountry\n",
    "    1. busqueda del tipo fuzzy incluida en la libreria\n",
    "    2. busqueda a partir si el nombre del pais esta contenido en el string\n",
    "2. reglas duras\n",
    "3. comparacion con thefuzz the nombres de paises\n",
    "4. marcacion manual"
   ]
  },
  {
   "cell_type": "code",
   "execution_count": null,
   "metadata": {},
   "outputs": [],
   "source": [
    "# Crea la nueva columna de valores estandarizados\n",
    "data[\"standard_job_country\"] = data[\"job_country\"].str.replace(\".\",\"\", regex=True).str.replace(\",\",\"\", regex=True)\n",
    "data[\"standard_job_country\"] = data[\"job_country\"].str.strip().str.upper()"
   ]
  },
  {
   "cell_type": "code",
   "execution_count": null,
   "metadata": {},
   "outputs": [],
   "source": [
    "country_test = data.groupby(\"job_country\")[\"Timestamp\"].count().sort_index().index\n",
    "\n",
    "\n",
    "search_name = []\n",
    "for x in country_test:    \n",
    "    \n",
    "    try:\n",
    "        name = pycountry.countries.search_fuzzy(x)[0].name\n",
    "        search_name.append(name.upper())\n",
    "    except:\n",
    "        \n",
    "        search_name.append(\"non_valid\")"
   ]
  },
  {
   "cell_type": "code",
   "execution_count": null,
   "metadata": {},
   "outputs": [],
   "source": [
    "# Crea un dataframe con las transformacions\n",
    "dict_test = dict(zip(country_test,search_name))\n",
    "country_standar_df = pd.DataFrame([country_test.T, search_name]).T\n",
    "country_standar_df.columns = [\"original\",\"standard\"]"
   ]
  },
  {
   "cell_type": "code",
   "execution_count": null,
   "metadata": {},
   "outputs": [],
   "source": [
    "\n",
    "found_country = []\n",
    "\n",
    "for x in country_standar_df[country_standar_df[\"standard\"] == \"non_valid\"][\"original\"]:\n",
    "    \n",
    "    arr_countries = [x.name.upper() for x in pycountry.countries]\n",
    "    for i, c in enumerate(arr_countries):\n",
    "\n",
    "        if c in x:            \n",
    "            found_country.append(c)\n",
    "            \n",
    "            break\n",
    "        else:\n",
    "\n",
    "            continue\n",
    "    if i+1 == len(arr_countries):\n",
    "        found_country.append(\"non_valid\")\n",
    "    else:\n",
    "        continue"
   ]
  },
  {
   "cell_type": "code",
   "execution_count": null,
   "metadata": {},
   "outputs": [],
   "source": [
    "country_standar_df.loc[country_standar_df[\"standard\"] == \"non_valid\", \"standard\"] = found_country"
   ]
  },
  {
   "cell_type": "code",
   "execution_count": null,
   "metadata": {},
   "outputs": [],
   "source": [
    "c0 = country_standar_df[\"standard\"] == \"non_valid\"\n",
    "c1 = country_standar_df.loc[country_standar_df[\"standard\"] == \"non_valid\", \"original\"].str.contains(\"UNITED ST\")\n",
    "country_standar_df.loc[c0&c1, \"standard\"] = \"UNITED STATES\"\n",
    "\n",
    "c0 = country_standar_df[\"standard\"] == \"non_valid\"\n",
    "c1 = country_standar_df.loc[country_standar_df[\"standard\"] == \"non_valid\", \"original\"].str.contains(\"USA\")\n",
    "country_standar_df.loc[c0&c1, \"standard\"] = \"UNITED STATES\"\n",
    "\n",
    "c0 = country_standar_df[\"standard\"] == \"non_valid\"\n",
    "c1 = country_standar_df.loc[country_standar_df[\"standard\"] == \"non_valid\", \"original\"].str.contains(\"ENGLAN\")\n",
    "country_standar_df.loc[c0&c1, \"standard\"] = \"ENGLAND\"\n"
   ]
  },
  {
   "cell_type": "code",
   "execution_count": null,
   "metadata": {},
   "outputs": [],
   "source": []
  },
  {
   "cell_type": "code",
   "execution_count": null,
   "metadata": {},
   "outputs": [],
   "source": [
    "c0 = country_standar_df[\"standard\"] == \"non_valid\"\n",
    "c1 = country_standar_df.loc[c0,\"original\"].apply(lambda x : fuzz.ratio(x,\"UNITED_STATES\")) > 60\n",
    "country_standar_df.loc[c0&c1, \"standard\"] = \"UNITED STATES\""
   ]
  },
  {
   "cell_type": "code",
   "execution_count": null,
   "metadata": {},
   "outputs": [],
   "source": [
    "c0 = country_standar_df[\"standard\"] == \"non_valid\"\n",
    "c1 = country_standar_df.loc[c0,\"original\"].apply(lambda x : fuzz.ratio(x,\"CANADA\")) > 60\n",
    "country_standar_df.loc[c0&c1, \"standard\"] = \"CANADA\""
   ]
  },
  {
   "cell_type": "code",
   "execution_count": null,
   "metadata": {},
   "outputs": [],
   "source": [
    "country_standar_df.loc[country_standar_df[\"standard\"] == \"non_valid\", \"original\"].values"
   ]
  },
  {
   "cell_type": "code",
   "execution_count": null,
   "metadata": {},
   "outputs": [],
   "source": [
    "dict_country_non_valid = {\n",
    "       'BRASIL':\"BRASIL\",\n",
    "       'I WORK FOR A UAE-BASED ORGANIZATION THOUGH I AM PERSONALLY IN THE US':\"UNITED SATES\",\n",
    "       'NEDERLAND':\"NETHERANDS\",\n",
    "       'SCOTLAND':\"UNITED KINGDOM\",\n",
    "       'SCOTLAND UK':\"UNITED KINGDOM\", \n",
    "       'THE US':\"UNITED STATES\", \n",
    "       'UAE':\"UAE\",\n",
    "       'UK BUT FOR GLOBALLY FULLY REMOTE COMPANY':\"UNITED KINGDOM\", \n",
    "       'UK FOR US COMPANY':\"UNITED KINGDOM\",\n",
    "       'UK REMOTE':\"UNITED KINGDOM\", \n",
    "       'UNITED KINDOM':\"UNITED KINGDOM\", \n",
    "       'UNITES KINGDOM':\"UNITED KINGDOM\",\n",
    "       'WALES (UK)':\"UNITED KINGDOM\", \n",
    "       'WALES UK':\"UNITED KINGDOM\"}\n"
   ]
  },
  {
   "cell_type": "code",
   "execution_count": null,
   "metadata": {},
   "outputs": [],
   "source": [
    "c0 = country_standar_df[\"standard\"] == \"non_valid\"\n",
    "country_standar_df.loc[c0, \"standard\"] = country_standar_df.loc[c0, \"original\"].map(dict_country_non_valid, na_action=\"'ignore'\")"
   ]
  },
  {
   "cell_type": "code",
   "execution_count": null,
   "metadata": {},
   "outputs": [],
   "source": [
    "country_standar_df[\"standard\"] = country_standar_df[\"standard\"].fillna(\"non_valid\")\n",
    "country_standar_df.loc[country_standar_df[\"standard\"] == \"non_valid\", \"original\"].values"
   ]
  },
  {
   "attachments": {},
   "cell_type": "markdown",
   "metadata": {},
   "source": [
    "#### Transformacion de los datos de pais de original a estandar"
   ]
  },
  {
   "cell_type": "code",
   "execution_count": null,
   "metadata": {},
   "outputs": [],
   "source": [
    "data[\"standard_job_country\"] = data[\"job_country\"].map(dict(zip(country_standar_df[\"original\"],country_standar_df[\"standard\"])))"
   ]
  },
  {
   "cell_type": "code",
   "execution_count": null,
   "metadata": {},
   "outputs": [],
   "source": [
    "data.groupby([\"standard_job_country\"])[\"Timestamp\"].count().sort_values(ascending=False)"
   ]
  },
  {
   "attachments": {},
   "cell_type": "markdown",
   "metadata": {},
   "source": [
    "## Estandarizar US states\n",
    "\n",
    "estandarizacion de los nombres de los estados de estados unidos, se convierten a mayusculas y se toma el primer valor que se encuentre antes de una coma"
   ]
  },
  {
   "cell_type": "code",
   "execution_count": null,
   "metadata": {},
   "outputs": [],
   "source": [
    "c0 = data[\"standard_job_country\"] == \"UNITED STATES\"\n",
    "\n",
    "data.loc[:,\"standard_us_state\"] = data.loc[:,\"us_state\"].str.upper()\n",
    "data.loc[:,\"us_state\"] = data.loc[c0,\"us_state\"].sort_values().str.split(\",\").str[0]\n",
    "\n",
    "len(data.loc[c0,\"us_state\"].unique())"
   ]
  },
  {
   "attachments": {},
   "cell_type": "markdown",
   "metadata": {},
   "source": [
    "## Estandarizacion ciudades\n",
    "\n",
    "prmiero se busca la informacion correspondiente a las ciudades americanas, luego de estandarizar estas ciudades se procede a estandarizar las ciudades del resto del mundo"
   ]
  },
  {
   "cell_type": "code",
   "execution_count": null,
   "metadata": {},
   "outputs": [],
   "source": [
    "data[\"job_city\"] = data[\"job_city\"].str.strip()\n",
    "\n",
    "print(\"cantidad de entradas sin manipular\")\n",
    "len(data[\"job_city\"].unique())"
   ]
  },
  {
   "cell_type": "code",
   "execution_count": null,
   "metadata": {},
   "outputs": [],
   "source": [
    "c0 = data[\"standard_job_country\"] == \"UNITED STATES\"\n",
    "\n",
    "print(\"cantidad de ciudades totales\")\n",
    "print(len(data.loc[:,\"job_city\"].str.upper().unique()))\n",
    "print(\"cantidad de ciudades de estados unidos\")\n",
    "print(len(data.loc[c0,\"job_city\"].str.upper().unique()))"
   ]
  },
  {
   "attachments": {},
   "cell_type": "markdown",
   "metadata": {},
   "source": [
    "### Busqueda de ciudades americanas"
   ]
  },
  {
   "cell_type": "code",
   "execution_count": null,
   "metadata": {},
   "outputs": [],
   "source": [
    "# Lectura de informacion de ciudades americanas\n",
    "\n",
    "us_cities_dir = \"data\\\\us_cities.csv\"\n",
    "us_cities_names_df = pd.read_csv(us_cities_dir, sep=\"|\")\n",
    "\n",
    "us_cities_names_df[\"City\"] = us_cities_names_df[\"City\"].str.upper()\n",
    "us_cities_names_df[\"State full\"] = us_cities_names_df[\"State full\"].str.upper()\n",
    "us_cities_names_df = us_cities_names_df[[\"City\",\"State short\",\"State full\"]].drop_duplicates()\n",
    "us_cities_names_df"
   ]
  },
  {
   "cell_type": "code",
   "execution_count": null,
   "metadata": {},
   "outputs": [],
   "source": [
    "c0 = data[\"standard_job_country\"] == \"UNITED STATES\"\n",
    "\n",
    "\n",
    "data[\"standard_job_city\"] = \"non_valid\"\n",
    "\n",
    "for state in data.loc[c0,\"us_state\"].unique():\n",
    "    #print(state)\n",
    "\n",
    "    #datos\n",
    "    c1 = data.loc[c0,\"us_state\"] == state\n",
    "    #referencias\n",
    "    f1 = us_cities_names_df[\"State full\"] == state\n",
    "\n",
    "    # en estados unidos el estado x \n",
    "    c = c0 & c1\n",
    "    \n",
    "    \n",
    "    for ciudad in us_cities_names_df.loc[f1,\"City\"]:\n",
    "        #print(ciudad+\" \"+state)\n",
    "        c2 = data.loc[c,\"standard_job_city\"] == \"non_valid\"\n",
    "\n",
    "        test_fuzz_1 = data.loc[c&c2,\"job_city\"].apply(lambda x : fuzz.ratio(str(x).upper(),ciudad.upper())) > 60\n",
    "        test_fuzz_2 = data.loc[c&c2,\"job_city\"].apply(lambda x : fuzz.token_set_ratio(str(x).upper(),ciudad.upper())) > 60\n",
    "\n",
    "        test_fuzz = test_fuzz_1 | test_fuzz_2\n",
    "\n",
    "        data.loc[c&c2&test_fuzz,\"standard_job_city\"] = ciudad\n"
   ]
  },
  {
   "cell_type": "code",
   "execution_count": null,
   "metadata": {},
   "outputs": [],
   "source": [
    "c0 = data[\"standard_job_country\"] == \"UNITED STATES\"\n",
    "\n",
    "\n",
    "iter_cities = us_cities_names_df[\"City\"].drop_duplicates().sort_values()\n",
    "\n",
    "for ciudad in iter_cities: #us_cities_names_df.loc[:,\"City\"]:\n",
    "    c1 = data.loc[c0,\"standard_job_city\"] == \"non_valid\"\n",
    "    #print(ciudad)\n",
    "    c = c0 & c1\n",
    "    test_fuzz_1 = data.loc[c,\"job_city\"].apply(lambda x : fuzz.ratio(str(x).upper(),ciudad)) > 60\n",
    "    test_fuzz_2 = data.loc[c,\"job_city\"].apply(lambda x : fuzz.token_set_ratio(str(x).upper(),ciudad)) > 60\n",
    "\n",
    "    test_fuzz = test_fuzz_1 | test_fuzz_2\n",
    "    if test_fuzz.sum() > 0:\n",
    "        data.loc[c&test_fuzz,\"standard_job_city\"] = ciudad"
   ]
  },
  {
   "attachments": {},
   "cell_type": "markdown",
   "metadata": {},
   "source": [
    "### Estandarizacion de nombres de ciudades del resto del mundo\n",
    "\n",
    "se tienen e cuenta solo las ciudades que segun el dataset tienen una poblacion mayor a 3.961325e4 (numero a priori) despues de obtener las descriptivas del set de datos"
   ]
  },
  {
   "cell_type": "code",
   "execution_count": null,
   "metadata": {},
   "outputs": [],
   "source": [
    "dir_world_cities = \"data\\worldcities.csv\"\n",
    "#dir_world_cities = \"data\\country_capitals.csv\"\n",
    "\n",
    "world_cities_df = pd.read_csv(dir_world_cities, sep=\",\")\n",
    "\n",
    "world_cities_df.sort_values(by = \"population\", ascending= False).describe()\n",
    "\n",
    "wc0 = world_cities_df[\"population\"] >= 3.961325e4\t\n",
    "world_cities_df = world_cities_df[wc0]\n",
    "\n",
    "world_cities_df"
   ]
  },
  {
   "cell_type": "code",
   "execution_count": null,
   "metadata": {},
   "outputs": [],
   "source": [
    "c0 = data[\"standard_job_country\"] != \"UNITED STATES\"\n",
    "\n",
    "\n",
    "#iter_cities = world_cities_df[\"city\"].drop_duplicates().sort_values().str.upper()\n",
    "iter_cities = world_cities_df[\"city\"].drop_duplicates().sort_values().str.upper()\n",
    "\n",
    "for ciudad in iter_cities: #us_cities_names_df.loc[:,\"City\"]:\n",
    "    c1 = data.loc[c0,\"standard_job_city\"] == \"non_valid\"\n",
    "    #print(ciudad)\n",
    "    c = c0 & c1\n",
    "    test_fuzz_1 = data.loc[c,\"job_city\"].apply(lambda x : fuzz.ratio(str(x).upper(),ciudad)) > 60\n",
    "    test_fuzz_2 = data.loc[c,\"job_city\"].apply(lambda x : fuzz.token_set_ratio(str(x).upper(),ciudad)) > 60\n",
    "\n",
    "    test_fuzz = test_fuzz_1 | test_fuzz_2\n",
    "\n",
    "    if test_fuzz.sum() > 0:\n",
    "        data.loc[c&test_fuzz,\"standard_job_city\"] = ciudad"
   ]
  },
  {
   "attachments": {},
   "cell_type": "markdown",
   "metadata": {},
   "source": [
    "## Estandariza annual salary\n",
    "\n",
    "convertir a numerica la informacion"
   ]
  },
  {
   "cell_type": "code",
   "execution_count": null,
   "metadata": {},
   "outputs": [],
   "source": [
    "data[\"standard_annual_salary\"] = data[\"annual_salary\"].str.replace(\",\",\"\",regex=False).\\\n",
    "                                    str.replace(\"$\",\"\",regex=False).\\\n",
    "                                    astype(int)\n",
    "\n",
    "\n",
    "data[\"total_income\"] = data[\"monetary_compensation\"] + data[\"standard_annual_salary\"]"
   ]
  },
  {
   "attachments": {},
   "cell_type": "markdown",
   "metadata": {},
   "source": [
    "## Union de tasas de cambio y caculo de salarios en pesos\n",
    "\n",
    "se realiza la union del valor de **currency** con su correspondiente conversion a **COP** luego de esto se procede a calcular las variables\n",
    "\n",
    "\n",
    "| Nombre Campo | \n",
    "| --- | \n",
    "|total_income_cop|\n",
    "|standard_annual_salary_cop|\n",
    "|monetary_compensation_cop|"
   ]
  },
  {
   "cell_type": "code",
   "execution_count": null,
   "metadata": {},
   "outputs": [],
   "source": [
    "dir_divisas = \"data\\currency.csv\"\n",
    "\n",
    "currency_df = pd.read_csv(dir_divisas)\n",
    "currency_df[\"value_usd\"] = currency_df[\"value_usd\"].astype(float)\n",
    "currency_df[\"value_cop\"] = currency_df[\"value_cop\"].astype(float)"
   ]
  },
  {
   "cell_type": "code",
   "execution_count": null,
   "metadata": {},
   "outputs": [],
   "source": [
    "dict_currency = dict(zip(currency_df[\"name\"],currency_df[\"value_cop\"]))\n",
    "\n",
    "data[\"currency_to_cop\"] = data[\"standard_currency\"].map(dict_currency, na_action=0)\n",
    "data[\"currency_to_cop\"] = data[\"currency_to_cop\"].fillna(0)"
   ]
  },
  {
   "cell_type": "code",
   "execution_count": null,
   "metadata": {},
   "outputs": [],
   "source": [
    "data[\"total_income_cop\"] = data[\"currency_to_cop\"] * data[\"total_income\"]\n",
    "data[\"standard_annual_salary_cop\"] = data[\"currency_to_cop\"] * data[\"standard_annual_salary\"]\n",
    "data[\"monetary_compensation_cop\"] = data[\"currency_to_cop\"] * data[\"monetary_compensation\"]"
   ]
  },
  {
   "attachments": {},
   "cell_type": "markdown",
   "metadata": {},
   "source": [
    "# Export Final"
   ]
  },
  {
   "cell_type": "code",
   "execution_count": null,
   "metadata": {},
   "outputs": [],
   "source": [
    "data.to_csv(\"salary_survey_cleaned.csv\", index = False)"
   ]
  },
  {
   "cell_type": "code",
   "execution_count": null,
   "metadata": {},
   "outputs": [],
   "source": []
  },
  {
   "cell_type": "code",
   "execution_count": null,
   "metadata": {},
   "outputs": [],
   "source": [
    "for (k,v), dt in zip(dict_columns.items(),data.dtypes):\n",
    "    print(\"|\" + str(k) + \"|\" + str(v) + \"|\")\n",
    "    #print(\"|\" + str(k) + \"|\" + str(dt) + \"|\")"
   ]
  },
  {
   "cell_type": "code",
   "execution_count": null,
   "metadata": {},
   "outputs": [],
   "source": [
    "for c in data.columns:\n",
    "    print(\"|\" + str(c) + \"|  \" + \"  |\")"
   ]
  },
  {
   "attachments": {},
   "cell_type": "markdown",
   "metadata": {},
   "source": [
    "# Documentacion modelado de datos\n",
    "\n",
    "## Descripcion de variables\n",
    "\n",
    "1. Variables en base de datos original.\n",
    "\n",
    "| Nombre Original | tipo_dato | Descripción |\n",
    "| --- | --- | --- |\n",
    "|Timestamp|texto| Hora de la encuesta |\n",
    "|How old are you?|texto| rango de edad del encuestado |\n",
    "|What industry do you work in?|texto| categoria de industria donde trabaja el encuestado |\n",
    "|Job title|texto| Nombre del trabajo |\n",
    "|If your job title needs additional context, please clarify here:|texto| aclaraciones sobre el trabajo que desempeña en encuestado |\n",
    "|What is your annual salary? (You'll indicate the currency in a later question. If you are part-time or hourly, please enter an annualized equivalent -- what you would earn if you worked the job 40 hours a week, 52 weeks a year.)| texto | salario anual del encuestado |\n",
    "|How much additional monetary compensation do you get, if any (for example, bonuses or overtime in an average year)? Please only include monetary compensation here, not the value of benefits.|float64| ingresos adicionales como bonificaciones adicionales al salario |\n",
    "|Please indicate the currency|texto| moneda en la que está el valor del salario anual |\n",
    "|If \"Other,\" please indicate the currency here: |texto| especificación para otras monedas en la que se suministra el salario |\n",
    "|If your income needs additional context, please provide it here:|texto| aclaraciones sobre el ingreso reportado |\n",
    "|What country do you work in?|texto| país en donde trabaja el encuestado |\n",
    "|If you're in the U.S., what state do you work in?|texto| Si el país donde trabaja es EEUU especifique en qué estado (Ej. Florida)|\n",
    "|What city do you work in?|texto| ciudad en donde trabaja el encuestado |\n",
    "|How many years of professional work experience do you have overall?|texto| años de experiencia profesional, puede ser en otras industrias distintas a la indicada en la encuesta|\n",
    "|How many years of professional work experience do you have in your field?|texto| años de experiencia profesional en la industria mencionada en la encuesta|\n",
    "|What is your highest level of education completed?|texto| nivel de educación del encuestado|\n",
    "|What is your gender?|texto| género del encuestado |\n",
    "|What is your race? (Choose all that apply.)|texto| raza del encuestado|\n",
    "\n",
    "\n",
    "\n",
    "2. Nombres de campos Homologados\n",
    "\n",
    "| Nombre Original | Nombre Homologado |\n",
    "| --- | --- |\n",
    "|Timestamp|Timestamp|\n",
    "|How old are you?|Age|\n",
    "|What industry do you work in?|Industry|\n",
    "|Job title|Job_title|\n",
    "|If your job title needs additional context, please clarify here:|Job_additional_context|\n",
    "|What is your annual salary? (You'll indicate the currency in a later question. If you are part-time or hourly, please enter an annualized equivalent -- what you would earn if you worked the job 40 hours a week, 52 weeks a year.)|annual_salary|\n",
    "|How much additional monetary compensation do you get, if any (for example, bonuses or overtime in an average year)? Please only include monetary compensation here, not the value of benefits.|monetary_compensation|\n",
    "|Please indicate the currency|currency|\n",
    "|If \"Other,\" please indicate the currency here: |other_currency|\n",
    "|If your income needs additional context, please provide it here:|income_aditional_context|\n",
    "|What country do you work in?|job_country|\n",
    "|If you're in the U.S., what state do you work in?|us_state|\n",
    "|What city do you work in?|job_city|\n",
    "|How many years of professional work experience do you have overall?|professional_experience|\n",
    "|How many years of professional work experience do you have in your field?|field_experience|\n",
    "|What is your highest level of education completed?|highest_education_level|\n",
    "|What is your gender?|gender|\n",
    "|What is your race? (Choose all that apply.)|race|\n",
    "\n",
    "3. Nuevos campos calculados\n",
    "\n",
    "| Nombre Campo | Descripcion | tipo |\n",
    "| --- | --- | --- |\n",
    "|standard_currency| Estandarización de los valoers originales de la moneda   | Texto |\n",
    "|standard_job_country| Estandarización del nombre del país donde trabaja el encuestado   | Texto |\n",
    "|standard_us_state|  Estandarización del estado de EEUU donde trabaja el encuestado  | Texto |\n",
    "|standard_job_city|  Estandarización de la ciudad donde trabaja el encuestado  | Texto |\n",
    "|standard_annual_salary|  Estandarizacion del valor del ingreso reportado  | Numerico |\n",
    "|total_income|  Suma del standard_annual_salary + monetary_compensation para obtener el total de ingresos por encuestado  | Numerico |\n",
    "|currency_to_cop|  Valor del una unidad de la moneda reportada a cop Ej. 1 USD -> COP 4900  | Numerico |\n",
    "|total_income_cop|  Conversión del total_income a COP total_income * currency_to_cop  |  Numerico |\n",
    "|standard_annual_salary_cop|  Conversión a COP de la variable standard_annual_salary. standard_annual_salary * currency_to_cop  |  Numerico |\n",
    "|monetary_compensation_cop|  Conversión a COP de la variable monetary_compensation. monetary_compensation* currency_to_cop |  Numerico |\n",
    "\n",
    "\n",
    "## Proceso de actualizacion del reporte\n",
    "\n",
    "1. Actualizacion de divisas\n",
    "\n",
    "para actualizar las divisas se puede utilizar google sheets para generar una tabla de informacion actualizada, para ello generar un documento el cual debe tener las columnas \n",
    "\n",
    "* Name: codigo de 3 letras de las distintas divisas (ISO 4217)\n",
    "* value_usd: formula de google sheets : =ifna(GOOGLEFINANCE(CONCATENATE(\"CURRENCY:\",B3,\"USD\"))*A3,0)\n",
    "* value_cop: =ifna(GOOGLEFINANCE(CONCATENATE(\"CURRENCY:USDCOP\"))*C3,0)\n",
    "\n",
    "**Ej.**\n",
    "\n",
    "|Name|value_usd|value_cop|\n",
    "| --- | --- | --- |\n",
    "|GBP | 1.2055 | 5717.691322 |\n",
    "\n",
    "\n",
    "una vez se tenga este documento se procede a descargarlo y guardarlo en la carpeta **data** con el nombre **currency.csv**\n",
    "\n",
    "2. Estandarizacion de informacion \n",
    "Descargar el resultado de la encuesta y almacenarlo en la carpeta **data** del proyecto y verificar que tenga el nombre \n",
    "**Ask A Manager Salary Survey 2021 (Responses) - Form Responses 1.tsv**\n",
    "\n",
    "Ejecutar el notebook en su totalidad, el cual consta de las siguientes secciones\n",
    "- Estandarizar Nombres de campos\n",
    "- Estandarización currency\n",
    "- Estandarización Paises\n",
    "- Estandarizar US states\n",
    "- Estandarizacion ciudades\n",
    "- Estandariza annual salary\n",
    "- Union de tasas de cambio y caculo de salarios en pesos\n",
    "\n",
    "3. Descargar la informacion de la encuesta estandarizada\n",
    "\n",
    "    El procesamiento de los datos queda almacenadoen el archivo **salary_survey_cleaned.csv**\n",
    "\n",
    "4. cargar la informacion en looker studio \n",
    "\n",
    "\n"
   ]
  }
 ],
 "metadata": {
  "kernelspec": {
   "display_name": "nlp_proyect",
   "language": "python",
   "name": "python3"
  },
  "language_info": {
   "codemirror_mode": {
    "name": "ipython",
    "version": 3
   },
   "file_extension": ".py",
   "mimetype": "text/x-python",
   "name": "python",
   "nbconvert_exporter": "python",
   "pygments_lexer": "ipython3",
   "version": "3.9.12"
  },
  "orig_nbformat": 4,
  "vscode": {
   "interpreter": {
    "hash": "0d06b9bb5bdd4391dbbb6c9de67668d9bf7cdb0d8f69fcd6d1b4d208c4bca029"
   }
  }
 },
 "nbformat": 4,
 "nbformat_minor": 2
}
